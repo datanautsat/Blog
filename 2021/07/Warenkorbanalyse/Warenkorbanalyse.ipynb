{
 "cells": [
  {
   "cell_type": "markdown",
   "metadata": {},
   "source": [
    "---\n",
    "\n",
    "Dateiname: Warenkorbanalyse.ipynb  \n",
    "Autor: Beatrice Steiner  \n",
    "E-Mail: [ds201017@fhstp.ac.at](mailto:ds201017@fhstp.ac.at)  \n",
    "Artikel: [Kaufrausch durch Data Science?](https://datanauts.at/blog/blog-eintrag-1)  \n",
    "Datum: 2021-07-05\n",
    "\n",
    "\n",
    "# Kaufrausch durch Data Science?\n",
    "\n",
    "*Warenkorbanalysen versuchen seit längerem ein einmaliges Einkaufserlebnis abgestimmt auf die Kund/inn/en im E-Commerce zu bieten. Dass durch Mathematik und Statistik relevante Informationen für die Händler/innen erschaffen werden können, ist meist aber nur als Privileg für große Portale bekannt. Das übergeordnete Ziel der Warenkorbanalyse ist es, verdeckte Zusammenhänge von historischen Käufen zu finden und damit die Gewinne und Wettbewerbsfähigkeit der Unternehmen zu steigern. Nachfolgend wird mittels der meist sowieso gespeicherten Daten, der Vorgang der Warenkorbanalysen beim on- und offline Handel beschrieben und eine Analyse mit Python erstellt.*\n",
    "\n",
    "---"
   ]
  },
  {
   "cell_type": "markdown",
   "metadata": {},
   "source": [
    "Als Basisdaten für eine Warenkorbanalyse werden die Transaktionsdaten eines Kaufes benötigt. Damit sind also die einzelnen Produkte gemeint, die Unterteilung erfolgt dabei pro Kauf. Damit sollen dann Assoziationen geschaffen werden. Wenn beispielsweise jemand eine Zahnbürste im Warenkorb hat, wird diese Person wahrscheinlich auch Zahnpasta hinzufügen. Dabei liegt der Fokus also auf ergänzende Produkte zum Ausgangsprodukt. Für Data Mining im Bereich der Warenkorbanalyse wird oft auf dem Apriori-Algorithmus zurückgegriffen. Für den Apriori-Algorithmus gibt es drei relevante Kennzahlen: Support, Konfidenz und Lift. Zunächst eine Erklärung dieser drei Werte."
   ]
  },
  {
   "cell_type": "markdown",
   "metadata": {},
   "source": [
    "Der Support gibt den prozentuellen Wert an, wie oft ein Produkt auf Basis aller Käufe gekauft wird. Da man in diesem Anwendungsfall aber von zusammenhängenden Käufen ausgeht, möchte man in diesem Fall die Wahrscheinlichkeit, dass Zahnbürste und Zahnpasta zusammen gekauft werden, bestimmen. Je höher dieser Wert ist, desto öfter werden diese Produkte zusammen gekauft.\n",
    "\n",
    "$Support(A \\to  B)=\\frac{Haeufigkeit(Produkt A und Produkt B zusammen)}{Anzahl(Transaktionen)}$"
   ]
  },
  {
   "cell_type": "markdown",
   "metadata": {},
   "source": [
    "Die Konfidenz gibt die Kaufwahrscheinlichkeit des zweiten Produktes an, wenn das erste Produkt gegeben ist. In diesem Fall also mit welcher Wahrscheinlichkeit beim Kauf einer Zahnbürste auch eine Zahnpasta gekauft wird. Je höher die Wahrscheinlichkeit ist, desto eher werden die beiden Produkte zusammen erworben. \n",
    "\n",
    "$Konfidenz(A \\to  B)=\\frac{Haeufigkeit(Produkt A und Produkt B zusammen)}{Haeufigkeit(Produkt A)}$"
   ]
  },
  {
   "cell_type": "markdown",
   "metadata": {},
   "source": [
    "Der Lift gibt den Auswirkungsgrad des Kaufes vom Folgeprodukt zum Basisprodukt an. Ein Wert, der größer als 1 (> 100%) ist, gibt an, dass ein positiver Zusammenhang besteht. Erhält man einen Lift von 1,5, bedeutet das, dass der Kauf vom Basisprodukt die Wahrscheinlichkeit des Kaufes des Folgeproduktes um 50% erhöht. Bei Werten unter 1 (< 100%) besagt dies z.B. bei 0,5, dass der Kauf des Folgeproduktes um 50% weniger wahrscheinlich ist. \n",
    "\n",
    "$Lift(A \\to  B)=\\frac{Support(A \\to  B)}{Support(A)*Support(B)}$"
   ]
  },
  {
   "cell_type": "markdown",
   "metadata": {},
   "source": [
    "## Praktisches Beispiel"
   ]
  },
  {
   "cell_type": "markdown",
   "metadata": {},
   "source": [
    "Als Basis werden die Daten einer Bäckerei herangezogen. Diese sind unter https://www.kaggle.com/sulmansarwar/transactions-from-a-bakery aufrufbar. Das Datenset besteht aus vier Spalten. Diese sind das Datum, die Uhrzeit der Transaktion, die Transaktion (ID) und das Produkt. Mittels dieses Datensatzes werden nun in Python Abhängigkeiten der Produkte ermittelt. "
   ]
  },
  {
   "cell_type": "markdown",
   "metadata": {},
   "source": [
    "Folgende Bibliotheken sind dafür zu importieren. "
   ]
  },
  {
   "cell_type": "code",
   "execution_count": 1,
   "metadata": {},
   "outputs": [],
   "source": [
    "# Import der Pakete für Warenkorbanalyse\n",
    "import pandas as pd\n",
    "import numpy as np\n",
    "import seaborn as sns\n",
    "import matplotlib.pyplot as plt\n",
    "from mlxtend.preprocessing import TransactionEncoder\n",
    "from mlxtend.frequent_patterns import association_rules, apriori"
   ]
  },
  {
   "cell_type": "markdown",
   "metadata": {},
   "source": [
    "Zuerst muss dafür das Datenset importiert werden. Dafür wird die Python-Bibliothek Pandas verwendet. Außerdem werden leere Produkte verworfen, damit wird die Datenqualität gesteigert. "
   ]
  },
  {
   "cell_type": "code",
   "execution_count": 2,
   "metadata": {},
   "outputs": [],
   "source": [
    "df = pd.read_csv('./BreadBasket_DMS.csv')\n",
    "df.drop(df[df['Item']=='NONE'].index, inplace=True)"
   ]
  },
  {
   "cell_type": "markdown",
   "metadata": {},
   "source": [
    "Nun folgt eine Schleife, welche alle Produkte einer Transaktion zusammenfügt. Pro Transaktion kennt man anschließend also alle gekauften Waren. "
   ]
  },
  {
   "cell_type": "code",
   "execution_count": 3,
   "metadata": {},
   "outputs": [],
   "source": [
    "#Liste der Produkte pro Transaktion\n",
    "transaction_list = []\n",
    "# FOR-Schleife zum Erstellen einer Liste der eindeutigen Transaktionen im Data-Set:\n",
    "for i in df['Transaction'].unique():\n",
    "    tlist = list(set(df[df['Transaction']==i]['Item']))\n",
    "    if len(tlist)>0:\n",
    "        transaction_list.append(tlist)"
   ]
  },
  {
   "cell_type": "markdown",
   "metadata": {},
   "source": [
    "Anschließend folgt noch eine Transformation der Daten, sodass alle Produkte encodiert sind und damit mit true und false betitelt werden können, da die darauffolgende apriori-Funktion nur mit true/false bzw. 0/1 arbeiten kann. "
   ]
  },
  {
   "cell_type": "code",
   "execution_count": 4,
   "metadata": {},
   "outputs": [],
   "source": [
    "#Encoding der Transaktionen\n",
    "te = TransactionEncoder()\n",
    "te_ary = te.fit(transaction_list).transform(transaction_list)\n",
    "df_ary = pd.DataFrame(te_ary, columns=te.columns_)"
   ]
  },
  {
   "cell_type": "markdown",
   "metadata": {},
   "source": [
    "Danach kann dieser DataFrame bereits an die apriori-Funktion übergeben werden. Der minimale Supportwert wird auf 0,01 festgelegt. Die Elemente werden nochmals gefiltert, um nur Elemente mit einem Lift-Wert von über 1 im DataFrame zu haben. "
   ]
  },
  {
   "cell_type": "code",
   "execution_count": 5,
   "metadata": {},
   "outputs": [],
   "source": [
    "#apriori-Funktion anwenden\n",
    "frequent_itemsets = apriori(df_ary, min_support=0.01, use_colnames=True)\n",
    "#Elemente mit einem Lift-Wert von über 1 in DataFrame\n",
    "rules = association_rules(frequent_itemsets, metric='lift', min_threshold=1.0)"
   ]
  },
  {
   "cell_type": "markdown",
   "metadata": {},
   "source": [
    "Zuletzt werden noch die benötigten Spalten gefiltert, um anschließend die Assoziationen nach dem Lift-Wert absteigend zu sortieren und auszugeben. „Antecedents“ sind als Basisprodukte zu betrachten und die “Consequents” als Folgeprodukte. "
   ]
  },
  {
   "cell_type": "code",
   "execution_count": 6,
   "metadata": {},
   "outputs": [],
   "source": [
    "#Nur die 'support', 'confidence', 'lift' Spalten anzeigen\n",
    "result = rules[['antecedents', 'consequents', 'support', 'confidence', 'lift']]\n",
    "#nach 'lift' absteigend sortieren\n",
    "result = result.sort_values('lift', ascending=False)"
   ]
  },
  {
   "cell_type": "markdown",
   "metadata": {},
   "source": [
    "Die vier größten Zusammenhänge sind nachfolgend aufgelistet: "
   ]
  },
  {
   "cell_type": "code",
   "execution_count": 7,
   "metadata": {},
   "outputs": [
    {
     "data": {
      "text/html": [
       "<div>\n",
       "<style scoped>\n",
       "    .dataframe tbody tr th:only-of-type {\n",
       "        vertical-align: middle;\n",
       "    }\n",
       "\n",
       "    .dataframe tbody tr th {\n",
       "        vertical-align: top;\n",
       "    }\n",
       "\n",
       "    .dataframe thead th {\n",
       "        text-align: right;\n",
       "    }\n",
       "</style>\n",
       "<table border=\"1\" class=\"dataframe\">\n",
       "  <thead>\n",
       "    <tr style=\"text-align: right;\">\n",
       "      <th></th>\n",
       "      <th>antecedents</th>\n",
       "      <th>consequents</th>\n",
       "      <th>support</th>\n",
       "      <th>confidence</th>\n",
       "      <th>lift</th>\n",
       "    </tr>\n",
       "  </thead>\n",
       "  <tbody>\n",
       "    <tr>\n",
       "      <th>40</th>\n",
       "      <td>(Cake)</td>\n",
       "      <td>(Tea, Coffee)</td>\n",
       "      <td>0.010037</td>\n",
       "      <td>0.096643</td>\n",
       "      <td>1.937977</td>\n",
       "    </tr>\n",
       "    <tr>\n",
       "      <th>39</th>\n",
       "      <td>(Tea, Coffee)</td>\n",
       "      <td>(Cake)</td>\n",
       "      <td>0.010037</td>\n",
       "      <td>0.201271</td>\n",
       "      <td>1.937977</td>\n",
       "    </tr>\n",
       "    <tr>\n",
       "      <th>8</th>\n",
       "      <td>(Cake)</td>\n",
       "      <td>(Hot chocolate)</td>\n",
       "      <td>0.011410</td>\n",
       "      <td>0.109868</td>\n",
       "      <td>1.883874</td>\n",
       "    </tr>\n",
       "    <tr>\n",
       "      <th>9</th>\n",
       "      <td>(Hot chocolate)</td>\n",
       "      <td>(Cake)</td>\n",
       "      <td>0.011410</td>\n",
       "      <td>0.195652</td>\n",
       "      <td>1.883874</td>\n",
       "    </tr>\n",
       "  </tbody>\n",
       "</table>\n",
       "</div>"
      ],
      "text/plain": [
       "        antecedents      consequents   support  confidence      lift\n",
       "40           (Cake)    (Tea, Coffee)  0.010037    0.096643  1.937977\n",
       "39    (Tea, Coffee)           (Cake)  0.010037    0.201271  1.937977\n",
       "8            (Cake)  (Hot chocolate)  0.011410    0.109868  1.883874\n",
       "9   (Hot chocolate)           (Cake)  0.011410    0.195652  1.883874"
      ]
     },
     "execution_count": 7,
     "metadata": {},
     "output_type": "execute_result"
    }
   ],
   "source": [
    "result.head(4)"
   ]
  },
  {
   "cell_type": "markdown",
   "metadata": {},
   "source": [
    "Danach kann man die Assoziationen auch gut mit einer Heat-Map darstellen. "
   ]
  },
  {
   "cell_type": "code",
   "execution_count": 8,
   "metadata": {},
   "outputs": [
    {
     "data": {
      "image/png": "[encoded data removed]",
      "text/plain": [
       "<Figure size 432x288 with 2 Axes>"
      ]
     },
     "metadata": {
      "needs_background": "light"
     },
     "output_type": "display_data"
    }
   ],
   "source": [
    "#Formatieren der Antecedents und Consequents\n",
    "rules['antecedents_'] = rules['antecedents'].apply(lambda a: ','.join(list(a)))\n",
    "rules['consequents_'] = rules['consequents'].apply(lambda a: ','.join(list(a)))\n",
    "# Transformieren des DataFrames der 'rules' in Matrix mit 'lift'-Wert\n",
    "pivot = rules.pivot(index = 'antecedents_', \n",
    "                    columns = 'consequents_', values= 'lift')\n",
    "#Heatmap mit Assoziationen erzeugen\n",
    "sns.heatmap(pivot, annot = True)\n",
    "plt.yticks(rotation=0)\n",
    "plt.xticks(rotation=90)\n",
    "plt.show()"
   ]
  },
  {
   "cell_type": "markdown",
   "metadata": {},
   "source": [
    "Je heller auf dieser Heat-Map ein Feld ist, desto stärker ist die Assoziation."
   ]
  },
  {
   "cell_type": "markdown",
   "metadata": {},
   "source": [
    "So kurz kann eine Warenkorbanalyse sein. Die Anwendung davon kann nochmals in einer Dash-Applikation dargestellt werden. Auf die Erstellung wird in diesem Blog-Post aber nicht näher eingegangen. \n",
    "\n",
    "In dieser Webanwendung sind anhand der Selektion eines Produktes zusammenhängende Produkte in einem Säulendiagramm erkennbar. Unterhalb erhält man nochmals einen Überblick über die gesamten ermittelten Zusammenhänge, die auch in der Heat-Map dargestellt sind. \n"
   ]
  },
  {
   "cell_type": "code",
   "execution_count": 9,
   "metadata": {},
   "outputs": [],
   "source": [
    "#Funktion, die zu Ausgangsprodukt die Folgeprodukte mit Lift-Wert zurückliefert \n",
    "def get_products(ant):   \n",
    "    con = rules.query(f'antecedents_==\"{ant}\"')\n",
    "    con = con.sort_values('lift', ascending=False)\n",
    "    return con[['consequents_', 'lift']]"
   ]
  },
  {
   "cell_type": "code",
   "execution_count": 10,
   "metadata": {},
   "outputs": [],
   "source": [
    "#Daten für Data-Table erzeugen\n",
    "showing = rules[['antecedents_', 'consequents_', 'lift']]\n",
    "showing = showing.sort_values('lift', ascending=False)"
   ]
  },
  {
   "cell_type": "code",
   "execution_count": 12,
   "metadata": {},
   "outputs": [
    {
     "name": "stderr",
     "output_type": "stream",
     "text": [
      " * Running on http://127.0.0.1:8051/ (Press CTRL+C to quit)\n",
      "127.0.0.1 - - [18/Jun/2021 16:05:23] \"\u001b[37mGET /_alive_dd0ec916-8ee3-416b-a14e-f496a345f44a HTTP/1.1\u001b[0m\" 200 -\n"
     ]
    },
    {
     "name": "stdout",
     "output_type": "stream",
     "text": [
      "Dash app running on http://127.0.0.1:8051/\n"
     ]
    },
    {
     "name": "stderr",
     "output_type": "stream",
     "text": [
      "127.0.0.1 - - [18/Jun/2021 16:05:24] \"\u001b[37mGET / HTTP/1.1\u001b[0m\" 200 -\n",
      "127.0.0.1 - - [18/Jun/2021 16:05:24] \"\u001b[37mGET /_dash-component-suites/dash_renderer/prop-types@15.v1_9_1m1622123014.7.2.min.js HTTP/1.1\u001b[0m\" 200 -\n",
      "127.0.0.1 - - [18/Jun/2021 16:05:24] \"\u001b[37mGET /_dash-component-suites/dash_renderer/react@16.v1_9_1m1622123014.14.0.min.js HTTP/1.1\u001b[0m\" 200 -\n",
      "127.0.0.1 - - [18/Jun/2021 16:05:24] \"\u001b[37mGET /_dash-component-suites/dash_renderer/polyfill@7.v1_9_1m1622123014.8.7.min.js HTTP/1.1\u001b[0m\" 200 -\n",
      "127.0.0.1 - - [18/Jun/2021 16:05:25] \"\u001b[37mGET /_dash-component-suites/dash_renderer/react-dom@16.v1_9_1m1622123014.14.0.min.js HTTP/1.1\u001b[0m\" 200 -\n",
      "127.0.0.1 - - [18/Jun/2021 16:05:25] \"\u001b[37mGET /_dash-component-suites/dash_html_components/dash_html_components.v1_1_3m1622123014.min.js HTTP/1.1\u001b[0m\" 200 -\n",
      "127.0.0.1 - - [18/Jun/2021 16:05:25] \"\u001b[37mGET /_dash-component-suites/dash_bootstrap_components/_components/dash_bootstrap_components.v0_12_2m1622408817.min.js HTTP/1.1\u001b[0m\" 200 -\n",
      "127.0.0.1 - - [18/Jun/2021 16:05:25] \"\u001b[37mGET /_dash-component-suites/dash_core_components/dash_core_components-shared.v1_16_0m1622123015.js HTTP/1.1\u001b[0m\" 200 -\n",
      "127.0.0.1 - - [18/Jun/2021 16:05:25] \"\u001b[37mGET /_dash-component-suites/dash_table/bundle.v4_11_3m1622123014.js HTTP/1.1\u001b[0m\" 200 -\n",
      "127.0.0.1 - - [18/Jun/2021 16:05:25] \"\u001b[37mGET /_dash-component-suites/dash_core_components/dash_core_components.v1_16_0m1622123015.min.js HTTP/1.1\u001b[0m\" 200 -\n",
      "127.0.0.1 - - [18/Jun/2021 16:05:25] \"\u001b[37mGET /_dash-component-suites/dash_renderer/dash_renderer.v1_9_1m1622123014.min.js HTTP/1.1\u001b[0m\" 200 -\n",
      "127.0.0.1 - - [18/Jun/2021 16:05:25] \"\u001b[37mGET /_dash-layout HTTP/1.1\u001b[0m\" 200 -\n",
      "127.0.0.1 - - [18/Jun/2021 16:05:25] \"\u001b[37mGET /_dash-dependencies HTTP/1.1\u001b[0m\" 200 -\n",
      "127.0.0.1 - - [18/Jun/2021 16:05:25] \"\u001b[37mGET /_favicon.ico?v=1.20.0 HTTP/1.1\u001b[0m\" 200 -\n",
      "127.0.0.1 - - [18/Jun/2021 16:05:25] \"\u001b[37mGET /_dash-component-suites/dash_core_components/async-dropdown.v1_16_0m1617903285.js HTTP/1.1\u001b[0m\" 200 -\n",
      "127.0.0.1 - - [18/Jun/2021 16:05:25] \"\u001b[37mGET /_dash-component-suites/dash_core_components/async-graph.v1_16_0m1617903285.js HTTP/1.1\u001b[0m\" 200 -\n",
      "127.0.0.1 - - [18/Jun/2021 16:05:25] \"\u001b[37mGET /_dash-component-suites/dash_table/async-highlight.js HTTP/1.1\u001b[0m\" 200 -\n",
      "127.0.0.1 - - [18/Jun/2021 16:05:25] \"\u001b[37mGET /_dash-component-suites/dash_table/async-table.js HTTP/1.1\u001b[0m\" 200 -\n",
      "127.0.0.1 - - [18/Jun/2021 16:05:25] \"\u001b[37mGET /_dash-component-suites/dash_core_components/async-plotlyjs.v1_16_0m1617903285.js HTTP/1.1\u001b[0m\" 200 -\n",
      "127.0.0.1 - - [18/Jun/2021 16:05:25] \"\u001b[37mPOST /_dash-update-component HTTP/1.1\u001b[0m\" 200 -\n",
      "127.0.0.1 - - [18/Jun/2021 16:05:31] \"\u001b[37mPOST /_dash-update-component HTTP/1.1\u001b[0m\" 200 -\n",
      "127.0.0.1 - - [18/Jun/2021 16:05:33] \"\u001b[37mPOST /_dash-update-component HTTP/1.1\u001b[0m\" 200 -\n"
     ]
    }
   ],
   "source": [
    "#Import der Pakete\n",
    "import plotly.express as px\n",
    "from jupyter_dash import JupyterDash\n",
    "import dash_core_components as dcc\n",
    "import dash_html_components as html\n",
    "from dash.dependencies import Input, Output\n",
    "import dash_bootstrap_components as dbc\n",
    "import dash_table\n",
    "\n",
    "# Build App und Theme festlegen\n",
    "app = JupyterDash(external_stylesheets=[dbc.themes.LUX])\n",
    "\n",
    "#Inhalte der Web-App festlegen\n",
    "app.layout = html.Div([\n",
    "    html.H1('Bäckerei',style={'text-align':'center'}),\n",
    "    html.Label([\n",
    "        'Produkt',    \n",
    "    ]),\n",
    "    dcc.Dropdown(\n",
    "            id='colorscale-dropdown', clearable=False,\n",
    "            value='coffee', options=[\n",
    "                {'label': c, 'value': c}\n",
    "                for c in showing['antecedents_'].drop_duplicates()\n",
    "            ]),\n",
    "    html.H3(f'Zusammenhängend'),\n",
    "    dcc.Graph(id='graph'),\n",
    "    html.H2('Überblick über Zusammenhänge:'),\n",
    "    dash_table.DataTable(\n",
    "    id='table',\n",
    "    columns=[{'name': i, 'id': i} for i in showing.columns],\n",
    "    data=showing.to_dict('records'),\n",
    "    )\n",
    "])\n",
    "\n",
    "\n",
    "#Callback für Update von Barchart\n",
    "@app.callback(\n",
    "    Output('graph', 'figure'),\n",
    "    [Input('colorscale-dropdown', 'value')]\n",
    ")\n",
    "#Funktion zum Updaten der Daten für Barchart\n",
    "def update_figure(colorscale):\n",
    "    graph_data = get_products(colorscale)\n",
    "    return px.bar(graph_data, x='consequents_', y='lift', width=900)\n",
    "# Run app\n",
    "app.run_server(debug=False, port=8051)"
   ]
  },
  {
   "cell_type": "markdown",
   "metadata": {},
   "source": [
    "Damit ist das Ergebnis interaktiv nochmals analysierbar. Rückschlüsse können davon seitens der Bäckerei gezogen, wodurch sich mögliche Chancen ergeben. Weiters gibt es die Möglichkeit, diese Assoziationen in E-Commerce Plattformen zu nutzen. "
   ]
  },
  {
   "cell_type": "markdown",
   "metadata": {},
   "source": [
    "## Welche Chancen ergeben sich durch Warenkorbanalysen?"
   ]
  },
  {
   "cell_type": "markdown",
   "metadata": {},
   "source": [
    "Es steht außer Frage, dass die Händler/innen auf lange Sicht mit Warenkorbanalysen eine Umsatzsteigerung erzielen möchte. Es gibt konkrete Aspekte, die mit Warenkorbanalysen erreicht werden können, um gezielt und kund/inn/enorientiert Waren anzubieten.\n",
    "*\tUp-Selling: Anstatt des von den Kund/inn/en gewünschten Produktes wird ein teureres/hochwertigeres Produkt angeboten.\n",
    "*\tCross-Selling: Zusatzprodukte werden zum Ausgangsprodukt angeboten, die ebenfalls für die Kund/inn/en relevant sein können, damit sollen mehr Produkte verkauft werden.\n",
    "*\tAfter-Selling: Erst nach dem Kauf werden relevante Folgeprodukte vorgeschlagen.\n",
    "*\tBestseller: Häufig verkaufte Produkte können identifiziert werden und damit kann auch dieser Aspekt in die Planung beim Einkauf oder der Bestellung einfließen.\n",
    "*\tLadenhüter vermeiden: Die Erkennung von wenig verkauften Produkten wird durch die Warenkorbanalyse ermöglicht und es können spezielle Maßnahmen gesetzt werden.\n",
    "*\tPreis: Besteht eine Verbindung beim Kauf von zwei Produkten, reicht oftmals ein Rabatt auf ein Produkt aus, um so mehr Verkäufe von beiden Produkten zu erzielen.\n",
    "*\tProduktplatzierung: Durch die Warenkorbanalysen können im E-Commerce - aber auch im realen Handel - bessere Produktplatzierungen von zusammenhängenden Produkten gemacht werden.\n",
    "*\tSteigerung von Kund/inn/enbindung und -zufriedenheit: Die Kund/inn/en fühlen sich durch Warenkorbanalysen verstanden. Dadurch wird eine Steigerung der Kund/inn/enzufriedenheit erreicht, die wiederum einen Wiedereinkauf wahrscheinlicher macht. \n"
   ]
  },
  {
   "cell_type": "markdown",
   "metadata": {},
   "source": [
    "## Fazit"
   ]
  },
  {
   "cell_type": "markdown",
   "metadata": {},
   "source": [
    "Durch Warenkorbanalysen kann auf lange Sicht die Wirtschaftlichkeit des Unternehmens verbessert werden. Mit geschicktem Einsatze von Data Mining Methoden können die Kund/inn/enwünsche besser verstanden und verwendet werden, um die Zufriedenheit langfristig zu stärken. "
   ]
  }
 ],
 "metadata": {
  "kernelspec": {
   "display_name": "Python 3",
   "language": "python",
   "name": "python3"
  },
  "language_info": {
   "codemirror_mode": {
    "name": "ipython",
    "version": 3
   },
   "file_extension": ".py",
   "mimetype": "text/x-python",
   "name": "python",
   "nbconvert_exporter": "python",
   "pygments_lexer": "ipython3",
   "version": "3.8.8"
  }
 },
 "nbformat": 4,
 "nbformat_minor": 5
}